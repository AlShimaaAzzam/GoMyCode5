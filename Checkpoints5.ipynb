{
 "cells": [
  {
   "cell_type": "markdown",
   "id": "0c702575",
   "metadata": {},
   "source": [
    "## Import Libraries"
   ]
  },
  {
   "cell_type": "code",
   "execution_count": 1,
   "id": "ad1aa82b",
   "metadata": {},
   "outputs": [],
   "source": [
    "# Import Libraries \n",
    "from matplotlib.figure import Figure\n",
    "import pandas as pd\n",
    "import numpy as np\n",
    "import seaborn as sns\n",
    "import matplotlib.pyplot as plt\n",
    "import warnings\n",
    "warnings.filterwarnings('ignore')"
   ]
  },
  {
   "cell_type": "markdown",
   "id": "cca44e72",
   "metadata": {},
   "source": [
    "## Read CSV Data"
   ]
  },
  {
   "cell_type": "code",
   "execution_count": 2,
   "id": "77b2f4ed",
   "metadata": {},
   "outputs": [
    {
     "name": "stdout",
     "output_type": "stream",
     "text": [
      "   PassengerId Survived  Pclass                                         Name  \\\n",
      "0          343       No       2                   Collander, Mr. Erik Gustaf   \n",
      "1           76       No       3                      Moen, Mr. Sigurd Hansen   \n",
      "2          641       No       3                       Jensen, Mr. Hans Peder   \n",
      "3          568       No       3  Palsson, Mrs. Nils (Alma Cornelia Berglund)   \n",
      "4          672       No       1                       Davidson, Mr. Thornton   \n",
      "\n",
      "      Sex   Age  SibSp  Parch      Ticket     Fare  Cabin Embarked  \n",
      "0    male  28.0      0      0      248740  13.0000    NaN        S  \n",
      "1    male  25.0      0      0      348123   7.6500  F G73        S  \n",
      "2    male  20.0      0      0      350050   7.8542    NaN        S  \n",
      "3  female  29.0      0      4      349909  21.0750    NaN        S  \n",
      "4    male  31.0      1      0  F.C. 12750  52.0000    B71        S  \n",
      "-----------------------------------------------------------------------\n",
      "   Null Sum   \n",
      "------------------\n",
      "PassengerId      0\n",
      "Survived         0\n",
      "Pclass           0\n",
      "Name             0\n",
      "Sex              0\n",
      "Age            177\n",
      "SibSp            0\n",
      "Parch            0\n",
      "Ticket           0\n",
      "Fare             0\n",
      "Cabin          687\n",
      "Embarked         2\n",
      "dtype: int64\n",
      "891\n"
     ]
    }
   ],
   "source": [
    "# Read the data \n",
    "df=pd.read_csv(\"titanic-passengers.csv\",sep=\";\")\n",
    "# Show the head of the csv file\n",
    "print (df.head(5))\n",
    "print(\"-----------------------------------------------------------------------\")\n",
    "# Show sum of empity cells\n",
    "print (\"   Null Sum   \")\n",
    "print(\"------------------\")\n",
    "print (df.isnull().sum())\n",
    "print (len(df))\n",
    "\n"
   ]
  },
  {
   "cell_type": "markdown",
   "id": "2b43e71c",
   "metadata": {},
   "source": [
    "## Data preprocessing"
   ]
  },
  {
   "cell_type": "code",
   "execution_count": 3,
   "id": "19dc2517",
   "metadata": {},
   "outputs": [
    {
     "name": "stdout",
     "output_type": "stream",
     "text": [
      "PassengerId    0\n",
      "Survived       0\n",
      "Pclass         0\n",
      "Name           0\n",
      "Sex            0\n",
      "Age            0\n",
      "SibSp          0\n",
      "Parch          0\n",
      "Ticket         0\n",
      "Fare           0\n",
      "Cabin          0\n",
      "Embarked       2\n",
      "dtype: int64\n",
      "891\n"
     ]
    }
   ],
   "source": [
    "# Data Peprocessing \n",
    "df[\"Age\"].fillna(df[\"Age\"].mean(),inplace=True)\n",
    "df[\"Cabin\"].fillna(\"G6\",inplace=True)\n",
    "\n",
    "# Show the sum of empity cells after the preprocessing \n",
    "print (df.isnull().sum())\n",
    "print (len(df))"
   ]
  },
  {
   "cell_type": "code",
   "execution_count": null,
   "id": "3d51cb1d",
   "metadata": {},
   "outputs": [],
   "source": []
  },
  {
   "cell_type": "markdown",
   "id": "23ed2aae",
   "metadata": {},
   "source": [
    "## Data Visualization"
   ]
  },
  {
   "cell_type": "markdown",
   "id": "22f26021",
   "metadata": {},
   "source": [
    "### Data Distriution for some features "
   ]
  },
  {
   "cell_type": "code",
   "execution_count": 4,
   "id": "1b10bedc",
   "metadata": {},
   "outputs": [
    {
     "data": {
      "text/plain": [
       "<AxesSubplot:title={'center':'Age Distribution '}, xlabel='Ages', ylabel='Frequency'>"
      ]
     },
     "execution_count": 4,
     "metadata": {},
     "output_type": "execute_result"
    },
    {
     "data": {
      "image/png": "[encoded data removed]",
      "text/plain": [
       "<Figure size 432x288 with 1 Axes>"
      ]
     },
     "metadata": {
      "needs_background": "light"
     },
     "output_type": "display_data"
    }
   ],
   "source": [
    "plt.title(\"Age Distribution \")\n",
    "plt.xlabel(\"Ages\")\n",
    "df[\"Age\"].plot.hist()"
   ]
  },
  {
   "cell_type": "code",
   "execution_count": 5,
   "id": "da7c7c2f",
   "metadata": {},
   "outputs": [
    {
     "data": {
      "text/plain": [
       "<AxesSubplot:title={'center':'Data Distriution for sex'}>"
      ]
     },
     "execution_count": 5,
     "metadata": {},
     "output_type": "execute_result"
    },
    {
     "data": {
      "image/png": "[encoded data removed]",
      "text/plain": [
       "<Figure size 432x288 with 1 Axes>"
      ]
     },
     "metadata": {
      "needs_background": "light"
     },
     "output_type": "display_data"
    }
   ],
   "source": [
    "plt.title(\"Data Distriution for sex\")\n",
    "pt=df[\"Sex\"].value_counts()\n",
    "pt.plot.bar()"
   ]
  },
  {
   "cell_type": "code",
   "execution_count": 6,
   "id": "727249ef",
   "metadata": {},
   "outputs": [
    {
     "data": {
      "text/plain": [
       "<AxesSubplot:title={'center':'Distriution Data for Survived Individuals'}>"
      ]
     },
     "execution_count": 6,
     "metadata": {},
     "output_type": "execute_result"
    },
    {
     "data": {
      "image/png": "[encoded data removed]",
      "text/plain": [
       "<Figure size 432x288 with 1 Axes>"
      ]
     },
     "metadata": {
      "needs_background": "light"
     },
     "output_type": "display_data"
    }
   ],
   "source": [
    "plt.title(\"Distriution Data for Survived Individuals\")\n",
    "pt=df[\"Survived\"].value_counts()\n",
    "pt.plot.bar()"
   ]
  },
  {
   "cell_type": "markdown",
   "id": "2de4ce53",
   "metadata": {},
   "source": [
    "### Impact of Age and Six Features on Survival of individuals"
   ]
  },
  {
   "cell_type": "code",
   "execution_count": 7,
   "id": "b3013d1d",
   "metadata": {},
   "outputs": [
    {
     "data": {
      "text/plain": [
       "<seaborn.axisgrid.FacetGrid at 0x1df4fc7dc70>"
      ]
     },
     "execution_count": 7,
     "metadata": {},
     "output_type": "execute_result"
    },
    {
     "data": {
      "image/png": "[encoded data removed]",
      "text/plain": [
       "<Figure size 440x216 with 2 Axes>"
      ]
     },
     "metadata": {
      "needs_background": "light"
     },
     "output_type": "display_data"
    }
   ],
   "source": [
    "grid = sns.FacetGrid(df, col=\"Survived\")\n",
    "grid.map(sns.barplot,\"Sex\",\"Age\",order=[\"male\",\"female\"])\n",
    "grid.add_legend()"
   ]
  },
  {
   "cell_type": "markdown",
   "id": "7fadafbd",
   "metadata": {},
   "source": [
    "### Impact of Passenger ID and  Embarked Features on Survival of individuals "
   ]
  },
  {
   "cell_type": "code",
   "execution_count": 8,
   "id": "76df6c6c",
   "metadata": {},
   "outputs": [
    {
     "data": {
      "text/plain": [
       "<seaborn.axisgrid.FacetGrid at 0x1df4fbc1ca0>"
      ]
     },
     "execution_count": 8,
     "metadata": {},
     "output_type": "execute_result"
    },
    {
     "data": {
      "image/png": "[encoded data removed]",
      "text/plain": [
       "<Figure size 440x216 with 2 Axes>"
      ]
     },
     "metadata": {
      "needs_background": "light"
     },
     "output_type": "display_data"
    }
   ],
   "source": [
    "grid = sns.FacetGrid(df, col=\"Survived\")\n",
    "grid.map(sns.barplot,\"Embarked\",\"PassengerId\")\n",
    "grid.add_legend()"
   ]
  },
  {
   "cell_type": "markdown",
   "id": "6e24bac6",
   "metadata": {},
   "source": [
    "### Corrolation Map Function"
   ]
  },
  {
   "cell_type": "code",
   "execution_count": 9,
   "id": "3812200f",
   "metadata": {},
   "outputs": [
    {
     "data": {
      "image/png": "[encoded data removed]",
      "text/plain": [
       "<Figure size 864x720 with 2 Axes>"
      ]
     },
     "metadata": {
      "needs_background": "light"
     },
     "output_type": "display_data"
    }
   ],
   "source": [
    "def plot_correlation_map( df ):\n",
    "    corr = df.corr()\n",
    "    s , ax = plt.subplots( figsize =( 12 , 10 ) )\n",
    "    cmap = sns.diverging_palette( 220 , 10 , as_cmap = True )\n",
    "    s = sns.heatmap(\n",
    "        corr, \n",
    "        cmap = cmap,\n",
    "        square=True, \n",
    "        cbar_kws={ 'shrink' : .9 }, \n",
    "        ax=ax, \n",
    "        annot = True, \n",
    "        annot_kws = { 'fontsize' : 12 }\n",
    "        )\n",
    "    \n",
    "plot_correlation_map( df )\n",
    "plt.show()      "
   ]
  },
  {
   "cell_type": "markdown",
   "id": "3604ed51",
   "metadata": {},
   "source": [
    "#### Discribtion of the above function \n",
    "\n",
    "\n",
    "\n",
    "The Previous function creats a correlation heat map to study the corrolation between features that can affect on servival of individuals , and After that creating heatmap that can present these correlation . We can Specify the shape of the heat map useing some parameters like font size , shrink , ........ etc \n"
   ]
  },
  {
   "cell_type": "markdown",
   "id": "75efcdc3",
   "metadata": {},
   "source": [
    "### Relation  between Pclass and survived using groupby function with mean "
   ]
  },
  {
   "cell_type": "code",
   "execution_count": 10,
   "id": "1c0acbc1",
   "metadata": {},
   "outputs": [
    {
     "data": {
      "text/plain": [
       "Pclass\n",
       "1    0.629630\n",
       "2    0.472826\n",
       "3    0.242363\n",
       "Name: Survived, dtype: float64"
      ]
     },
     "execution_count": 10,
     "metadata": {},
     "output_type": "execute_result"
    }
   ],
   "source": [
    "cleanup={\"Survived\":{\"Yes\":1, \"No\": 0}}  \n",
    "df.replace(cleanup, inplace=True)\n",
    "df.groupby([\"Pclass\"])[\"Survived\"].mean()"
   ]
  },
  {
   "cell_type": "markdown",
   "id": "7059e2e2",
   "metadata": {},
   "source": [
    "### Extract Titles From Names and add Theme to The Dataframe"
   ]
  },
  {
   "cell_type": "code",
   "execution_count": 11,
   "id": "7d62812f",
   "metadata": {},
   "outputs": [
    {
     "name": "stdout",
     "output_type": "stream",
     "text": [
      "\n",
      "0        Mr\n",
      "1        Mr\n",
      "2        Mr\n",
      "3       Mrs\n",
      "4        Mr\n",
      "       ... \n",
      "886     Mrs\n",
      "887      Mr\n",
      "888    Miss\n",
      "889      Mr\n",
      "890    Miss\n",
      "Name: Title, Length: 891, dtype: object\n"
     ]
    }
   ],
   "source": [
    "\n",
    "Title=[]\n",
    "for  i in range(0,len(df)):\n",
    "    x=((df[\"Name\"][i].split(\", \"))[1]).split(\".\")[0]\n",
    "    Title.append(x)\n",
    "print () \n",
    "df [\"Title\"]=Title \n",
    "print (df[\"Title\"])\n",
    "\n"
   ]
  },
  {
   "cell_type": "markdown",
   "id": "b2b18629",
   "metadata": {},
   "source": [
    "### Titles Distribution Features "
   ]
  },
  {
   "cell_type": "code",
   "execution_count": 12,
   "id": "bfe278d2",
   "metadata": {},
   "outputs": [
    {
     "data": {
      "text/plain": [
       "<AxesSubplot:>"
      ]
     },
     "execution_count": 12,
     "metadata": {},
     "output_type": "execute_result"
    },
    {
     "data": {
      "image/png": "[encoded data removed]",
      "text/plain": [
       "<Figure size 432x288 with 1 Axes>"
      ]
     },
     "metadata": {
      "needs_background": "light"
     },
     "output_type": "display_data"
    }
   ],
   "source": [
    "c=df[\"Title\"].value_counts()\n",
    "c.plot.bar()"
   ]
  },
  {
   "cell_type": "markdown",
   "id": "117c11c9",
   "metadata": {},
   "source": [
    "### Corrolation Between Title Feature and Some Other Features"
   ]
  },
  {
   "cell_type": "code",
   "execution_count": 13,
   "id": "8862f151",
   "metadata": {},
   "outputs": [
    {
     "data": {
      "text/plain": [
       "<seaborn.axisgrid.FacetGrid at 0x1df4ff860d0>"
      ]
     },
     "execution_count": 13,
     "metadata": {},
     "output_type": "execute_result"
    },
    {
     "data": {
      "image/png": "[encoded data removed]",
      "text/plain": [
       "<Figure size 929.6x576 with 4 Axes>"
      ]
     },
     "metadata": {
      "needs_background": "light"
     },
     "output_type": "display_data"
    }
   ],
   "source": [
    "grid = sns.FacetGrid(df, col=\"Survived\",row=\"Sex\", height=4, aspect=1.6)\n",
    "grid.map(sns.barplot,\"Title\",\"Age\")\n",
    "grid.add_legend()"
   ]
  },
  {
   "cell_type": "markdown",
   "id": "bf85a9ad",
   "metadata": {},
   "source": [
    "### Use  More Useful Titles "
   ]
  },
  {
   "cell_type": "code",
   "execution_count": 14,
   "id": "4ff39849",
   "metadata": {
    "scrolled": true
   },
   "outputs": [],
   "source": [
    "\n",
    "Title_Dictionary = {\n",
    "\n",
    "                    \"Capt\":\"Officer\",\n",
    "                    \"Col\":\"Officer\",\n",
    "                    \"Major\":\"Officer\",\n",
    "                    \"Dr\":\"Officer\",\n",
    "                    \"Rev\":\"Officer\",\n",
    "                    \"Jonkheer\":\"Royalty\",\n",
    "                    \"Don\":\"Royalty\",\n",
    "                    \"Sir\":\"Royalty\",\n",
    "                    \"Lady\":\"Royalty\",\n",
    "                  \"the Countess\":\"Royalty\",\n",
    "                    \"Dona\":\"Royalty\",\n",
    "                    \"Mme\":\"Miss\",\n",
    "                    \"Mlle\":\"Miss\",\n",
    "                    \"Miss\":\"Miss\",\n",
    "                    \"Ms\":\"Mrs\",\n",
    "                    \"Mr\" :\"Mrs\",\n",
    "                    \"Mrs\" :\"Mrs\",\n",
    "                    \"Master\":\"Master\"\n",
    "                    }\n",
    "Title2=[]\n",
    "for  i in range(0,len(df)):\n",
    "    x=df[\"Title\"][i]\n",
    "    Title2.append(Title_Dictionary[x]) \n",
    "df[\"Title2\"]=Title2"
   ]
  },
  {
   "cell_type": "markdown",
   "id": "6864a233",
   "metadata": {},
   "source": [
    "### Distribution of Title Feature After Editing   "
   ]
  },
  {
   "cell_type": "code",
   "execution_count": 15,
   "id": "a943abe6",
   "metadata": {},
   "outputs": [
    {
     "data": {
      "text/plain": [
       "<AxesSubplot:>"
      ]
     },
     "execution_count": 15,
     "metadata": {},
     "output_type": "execute_result"
    },
    {
     "data": {
      "image/png": "[encoded data removed]",
      "text/plain": [
       "<Figure size 432x288 with 1 Axes>"
      ]
     },
     "metadata": {
      "needs_background": "light"
     },
     "output_type": "display_data"
    }
   ],
   "source": [
    "c=df[\"Title2\"].value_counts()\n",
    "c.plot.bar()"
   ]
  },
  {
   "cell_type": "markdown",
   "id": "abb26e36",
   "metadata": {},
   "source": [
    "### Corrolation Between Title2 Feature and Some Other Features"
   ]
  },
  {
   "cell_type": "code",
   "execution_count": 16,
   "id": "49c956fd",
   "metadata": {},
   "outputs": [
    {
     "data": {
      "text/plain": [
       "<seaborn.axisgrid.FacetGrid at 0x1df500f2d30>"
      ]
     },
     "execution_count": 16,
     "metadata": {},
     "output_type": "execute_result"
    },
    {
     "data": {
      "image/png": "[encoded data removed]",
      "text/plain": [
       "<Figure size 929.6x576 with 4 Axes>"
      ]
     },
     "metadata": {
      "needs_background": "light"
     },
     "output_type": "display_data"
    }
   ],
   "source": [
    "grid = sns.FacetGrid(df, col=\"Survived\",row=\"Sex\", height=4, aspect=1.6)\n",
    "grid.map(sns.barplot,\"Title2\",\"Age\")\n",
    "grid.add_legend()"
   ]
  },
  {
   "cell_type": "markdown",
   "id": "a29047c5",
   "metadata": {},
   "source": [
    "###                      Using SibSp and Parch Feature to Create FamilySize Feature  \n",
    "#### Sibsp represents the number of siblings/spouses aboard &  Parch represents the number of Parents/Children Aboard\n"
   ]
  },
  {
   "cell_type": "code",
   "execution_count": 17,
   "id": "ac0f06d0",
   "metadata": {},
   "outputs": [
    {
     "name": "stdout",
     "output_type": "stream",
     "text": [
      "0      0\n",
      "1      0\n",
      "2      0\n",
      "3      4\n",
      "4      1\n",
      "      ..\n",
      "886    1\n",
      "887    0\n",
      "888    0\n",
      "889    0\n",
      "890    0\n",
      "Name: FamilySize, Length: 891, dtype: int64\n"
     ]
    }
   ],
   "source": [
    "List =[]\n",
    "for i in range (0,len(df)):\n",
    "    x = df[\"Parch\"][i]+df[\"SibSp\"][i]\n",
    "    List.append(x)\n",
    "df[\"FamilySize\"]=List\n",
    "print (df[\"FamilySize\"])    "
   ]
  },
  {
   "cell_type": "markdown",
   "id": "1776c06e",
   "metadata": {},
   "source": [
    "# Logistic Regression"
   ]
  },
  {
   "cell_type": "markdown",
   "id": "8578c34a",
   "metadata": {},
   "source": [
    "### Importing Libraries"
   ]
  },
  {
   "cell_type": "code",
   "execution_count": 18,
   "id": "d9ab3132",
   "metadata": {},
   "outputs": [],
   "source": [
    "from sklearn.model_selection import train_test_split\n",
    "from sklearn.linear_model import LogisticRegression\n",
    "from sklearn import metrics"
   ]
  },
  {
   "cell_type": "markdown",
   "id": "542dc6e0",
   "metadata": {},
   "source": [
    "### Preparing Data"
   ]
  },
  {
   "cell_type": "code",
   "execution_count": 19,
   "id": "f0d9ee63",
   "metadata": {},
   "outputs": [],
   "source": [
    "x = df[['Age','Parch',\"Pclass\"]]\n",
    "y = df['Survived']"
   ]
  },
  {
   "cell_type": "markdown",
   "id": "92d38c41",
   "metadata": {},
   "source": [
    "### Spliting data into test and train datasets"
   ]
  },
  {
   "cell_type": "code",
   "execution_count": 20,
   "id": "eb26de6b",
   "metadata": {},
   "outputs": [],
   "source": [
    "x_train,x_test,y_train,y_test = train_test_split(x,y,test_size=0.2,random_state=0)"
   ]
  },
  {
   "cell_type": "markdown",
   "id": "744badfe",
   "metadata": {},
   "source": [
    "###  Training the model"
   ]
  },
  {
   "cell_type": "code",
   "execution_count": 22,
   "id": "2af2e999",
   "metadata": {},
   "outputs": [],
   "source": [
    "model = LogisticRegression()   #build our logistic model\n",
    "model.fit(x_train, y_train)  #fitting training data\n",
    "y_predicted  = model.predict(x_test)    #testing model’s performance\n"
   ]
  },
  {
   "cell_type": "markdown",
   "id": "6cb27ddb",
   "metadata": {},
   "source": [
    "### Printing the model accurecy"
   ]
  },
  {
   "cell_type": "code",
   "execution_count": 23,
   "id": "40c74cd0",
   "metadata": {},
   "outputs": [
    {
     "name": "stdout",
     "output_type": "stream",
     "text": [
      "Accuracy=0.74\n"
     ]
    }
   ],
   "source": [
    "print(\"Accuracy={:.2f}\".format(logreg.score(x_test, y_test)))"
   ]
  },
  {
   "cell_type": "markdown",
   "id": "deebdaf0",
   "metadata": {},
   "source": [
    "## Confusion Matrix"
   ]
  },
  {
   "cell_type": "code",
   "execution_count": 33,
   "id": "a5a45c9c",
   "metadata": {},
   "outputs": [
    {
     "data": {
      "text/plain": [
       "<AxesSubplot:xlabel='Predicted', ylabel='Actual'>"
      ]
     },
     "execution_count": 33,
     "metadata": {},
     "output_type": "execute_result"
    },
    {
     "data": {
      "image/png": "[encoded data removed]",
      "text/plain": [
       "<Figure size 432x288 with 2 Axes>"
      ]
     },
     "metadata": {
      "needs_background": "light"
     },
     "output_type": "display_data"
    }
   ],
   "source": [
    "confusion_matrix = pd.crosstab(y_test, y_predicted, rownames=['Actual'], colnames=['Predicted'])\n",
    "sns.heatmap(confusion_matrix, annot=True)"
   ]
  },
  {
   "cell_type": "markdown",
   "id": "068e5e22",
   "metadata": {},
   "source": [
    "## ROC and AUC"
   ]
  },
  {
   "cell_type": "markdown",
   "id": "d3d98b84",
   "metadata": {},
   "source": [
    "An ROC curve (receiver operating characteristic curve) is a graph showing the performance of a classification model at all classification thresholds. This curve plots two parameters:- True Positive Rate   - False Positive Rate\n",
    "\n",
    "AUC stands for \"Area under the ROC Curve.\" That is, AUC measures the entire two-dimensional area underneath the entire ROC curve "
   ]
  },
  {
   "cell_type": "code",
   "execution_count": 38,
   "id": "de99b938",
   "metadata": {},
   "outputs": [
    {
     "data": {
      "image/png": "[encoded data removed]",
      "text/plain": [
       "<Figure size 432x288 with 1 Axes>"
      ]
     },
     "metadata": {
      "needs_background": "light"
     },
     "output_type": "display_data"
    },
    {
     "name": "stdout",
     "output_type": "stream",
     "text": [
      "AUC Equals :\n"
     ]
    },
    {
     "data": {
      "text/plain": [
       "0.6781050291747708"
      ]
     },
     "execution_count": 38,
     "metadata": {},
     "output_type": "execute_result"
    }
   ],
   "source": [
    "# Find FPR and TPR\n",
    "fpr, tpr, _ = metrics.roc_curve(y_test,  y_predicted)\n",
    "# Plot ROC Curve\n",
    "plt.plot(fpr,tpr)\n",
    "plt.ylabel('True Positive Rate')\n",
    "plt.xlabel('False Positive Rate')\n",
    "plt.show()\n",
    "# Print AUC Value \n",
    "print (\"AUC Equals :\")\n",
    "metrics.auc(fpr, tpr)"
   ]
  }
 ],
 "metadata": {
  "kernelspec": {
   "display_name": "Python 3",
   "language": "python",
   "name": "python3"
  },
  "language_info": {
   "codemirror_mode": {
    "name": "ipython",
    "version": 3
   },
   "file_extension": ".py",
   "mimetype": "text/x-python",
   "name": "python",
   "nbconvert_exporter": "python",
   "pygments_lexer": "ipython3",
   "version": "3.8.8"
  }
 },
 "nbformat": 4,
 "nbformat_minor": 5
}
